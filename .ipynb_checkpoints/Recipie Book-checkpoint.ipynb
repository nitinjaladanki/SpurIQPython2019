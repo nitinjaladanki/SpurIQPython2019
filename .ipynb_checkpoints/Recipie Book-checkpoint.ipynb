{
 "cells": [
  {
   "cell_type": "markdown",
   "metadata": {},
   "source": [
    "# Database Setup"
   ]
  },
  {
   "cell_type": "code",
   "execution_count": null,
   "metadata": {
    "scrolled": true
   },
   "outputs": [],
   "source": [
    "import sqlite3\n",
    "\n",
    "def createTable():\n",
    "    foodData = sqlite3.connect(\"mydatabase.db\")\n",
    "    mycursor = foodData.cursor()\n",
    "    mycursor.execute(\"CREATE TABLE RecipeBook (id INTEGER PRIMARY KEY, cuisine VARCHAR(255), dish VARCHAR(255), recipes VARCHAR(255))\")\n",
    "    foodData.close()\n",
    "\n",
    "def fillTable():\n",
    "    foodData = sqlite3.connect(\"mydatabase.db\")\n",
    "    mycursor = foodData.cursor()\n",
    "    sql = \"INSERT INTO RecipeBook (cuisine, dish, recipes) VALUES (?, ?, ?)\"\n",
    "    val = [\n",
    "            ('indian', 'idli', 'https://recipes.timesofindia.com/recipes/idli/rs53239358.cms'),\n",
    "            ('indian', 'iosa', 'https://www.thespruceeats.com/how-to-make-dosa-1957716'),\n",
    "            ('indian', 'dhal', 'https://www.wearesovegan.com/super-simple-dhal/'),\n",
    "            ('indian', 'chutney','https://www.tarladalal.com/Coconut-Chutney--(-Idlis-and-Dosas)-1653r' ),\n",
    "            ('indian', 'sambhar', 'https://www.cookwithmanali.com/sambar/'),\n",
    "            ('italian', 'pizza', 'https://www.tasteofhome.com/recipes/homemade-pizza/'),\n",
    "            ('italian', 'spaghetti', 'https://www.southernliving.com/recipes/all-in-one-spaghetti-recipe'),\n",
    "            ('italian', 'calzone', 'https://www.allrecipes.com/recipe/18874/real-italian-calzones/'),\n",
    "            ('italian', 'soup', 'https://www.myrecipes.com/world-cuisine/italian-recipes/italian-soups'),\n",
    "            ('italian', 'polenta', 'https://www.foodnetwork.com/recipes/giada-de-laurentiis/basic-polenta-recipe-1915185'),\n",
    "            ('mexican', 'burrito','https://www.theseasonedmom.com/easiest-burrito-recipe/'),\n",
    "            ('mexican', 'taco','https://www.foodiecrush.com/taco-bell-tacos-recipe/'),\n",
    "            ('mexican', 'quesadilla','https://www.tasteofhome.com/recipes/chicken-quesadillas/'),\n",
    "            ('mexican', 'nachos','https://www.allrecipes.com/recipe/51147/super-nachos/'),\n",
    "            ('mediterranean', 'kebabs', 'https://www.cookingclassy.com/steak-kebabs/'),\n",
    "            ('mediterranean', 'tzatziki', 'https://www.themediterraneandish.com/tzatziki-sauce-recipe/'),\n",
    "            ('mediterranean', 'shawarma', 'https://toriavey.com/toris-kitchen/chicken-shawarma/'),\n",
    "            ('mediterranean', 'soulvaki', 'https://www.gimmesomeoven.com/chicken-souvlaki/'),\n",
    "            ('american', 'mac n Cheese', 'https://www.cookingclassy.com/mac-and-cheese/'),\n",
    "            ('american', 'grilled Cheese', 'https://www.bonappetit.com/recipe/best-ever-grilled-cheese'),\n",
    "            ('american', 'tater Tots', 'https://www.wellplated.com/homemade-tater-tots/'),\n",
    "            ('chinese', 'fried Rice', 'https://www.jessicagavin.com/easy-fried-rice/'),\n",
    "            ('chinese', 'chow Mein', 'https://www.foodnetwork.com/recipes/ree-drummond/chow-mein-2495687'),\n",
    "            ('chinese', 'orange Chicken', 'https://www.modernhoney.com/chinese-orange-chicken/'),\n",
    "            ]\n",
    "    mycursor.executemany(sql, val)\n",
    "    foodData.commit()\n",
    "    foodData.close()\n",
    "    \n",
    "def viewTable():\n",
    "    foodData = sqlite3.connect(\"mydatabase.db\")\n",
    "    mycursor = foodData.cursor()\n",
    "    sql = \"SELECT * FROM RecipeBook ORDER BY cuisine\"\n",
    "    mycursor.execute(sql)\n",
    "    myresult = mycursor.fetchall()\n",
    "    for x in myresult:\n",
    "        print(x)\n",
    "    foodData.close()\n",
    "\n",
    "def deleteTable():\n",
    "    foodData = sqlite3.connect(\"mydatabase.db\")\n",
    "    mycursor = foodData.cursor()\n",
    "    sql = \"DROP TABLE IF EXISTS RecipeBook\"\n",
    "    mycursor.execute(sql)\n",
    "    foodData.close()\n",
    "    \n",
    "def getDishes(cuisine):\n",
    "    foodData = sqlite3.connect(\"mydatabase.db\")\n",
    "    mycursor = foodData.cursor()\n",
    "    sql = \"SELECT dish FROM RecipeBook WHERE Cuisine = ?\"\n",
    "    mycursor.execute(sql)\n",
    "    foodData.close()\n",
    "\n"
   ]
  },
  {
   "cell_type": "markdown",
   "metadata": {},
   "source": [
    "# User Setup"
   ]
  },
  {
   "cell_type": "code",
   "execution_count": 34,
   "metadata": {
    "scrolled": true
   },
   "outputs": [
    {
     "name": "stdout",
     "output_type": "stream",
     "text": [
      "What would you like to cook?(Indian, American, Chinese, Italian, Mediterranean, Mexican) or 'quit'Indian\n"
     ]
    },
    {
     "ename": "KeyboardInterrupt",
     "evalue": "",
     "output_type": "error",
     "traceback": [
      "\u001b[0;31m---------------------------------------------------------------------------\u001b[0m",
      "\u001b[0;31mKeyboardInterrupt\u001b[0m                         Traceback (most recent call last)",
      "\u001b[0;32m/anaconda3/lib/python3.7/site-packages/ipykernel/kernelbase.py\u001b[0m in \u001b[0;36m_input_request\u001b[0;34m(self, prompt, ident, parent, password)\u001b[0m\n\u001b[1;32m    877\u001b[0m             \u001b[0;32mtry\u001b[0m\u001b[0;34m:\u001b[0m\u001b[0;34m\u001b[0m\u001b[0;34m\u001b[0m\u001b[0m\n\u001b[0;32m--> 878\u001b[0;31m                 \u001b[0mident\u001b[0m\u001b[0;34m,\u001b[0m \u001b[0mreply\u001b[0m \u001b[0;34m=\u001b[0m \u001b[0mself\u001b[0m\u001b[0;34m.\u001b[0m\u001b[0msession\u001b[0m\u001b[0;34m.\u001b[0m\u001b[0mrecv\u001b[0m\u001b[0;34m(\u001b[0m\u001b[0mself\u001b[0m\u001b[0;34m.\u001b[0m\u001b[0mstdin_socket\u001b[0m\u001b[0;34m,\u001b[0m \u001b[0;36m0\u001b[0m\u001b[0;34m)\u001b[0m\u001b[0;34m\u001b[0m\u001b[0;34m\u001b[0m\u001b[0m\n\u001b[0m\u001b[1;32m    879\u001b[0m             \u001b[0;32mexcept\u001b[0m \u001b[0mException\u001b[0m\u001b[0;34m:\u001b[0m\u001b[0;34m\u001b[0m\u001b[0;34m\u001b[0m\u001b[0m\n",
      "\u001b[0;32m/anaconda3/lib/python3.7/site-packages/jupyter_client/session.py\u001b[0m in \u001b[0;36mrecv\u001b[0;34m(self, socket, mode, content, copy)\u001b[0m\n\u001b[1;32m    802\u001b[0m         \u001b[0;32mtry\u001b[0m\u001b[0;34m:\u001b[0m\u001b[0;34m\u001b[0m\u001b[0;34m\u001b[0m\u001b[0m\n\u001b[0;32m--> 803\u001b[0;31m             \u001b[0mmsg_list\u001b[0m \u001b[0;34m=\u001b[0m \u001b[0msocket\u001b[0m\u001b[0;34m.\u001b[0m\u001b[0mrecv_multipart\u001b[0m\u001b[0;34m(\u001b[0m\u001b[0mmode\u001b[0m\u001b[0;34m,\u001b[0m \u001b[0mcopy\u001b[0m\u001b[0;34m=\u001b[0m\u001b[0mcopy\u001b[0m\u001b[0;34m)\u001b[0m\u001b[0;34m\u001b[0m\u001b[0;34m\u001b[0m\u001b[0m\n\u001b[0m\u001b[1;32m    804\u001b[0m         \u001b[0;32mexcept\u001b[0m \u001b[0mzmq\u001b[0m\u001b[0;34m.\u001b[0m\u001b[0mZMQError\u001b[0m \u001b[0;32mas\u001b[0m \u001b[0me\u001b[0m\u001b[0;34m:\u001b[0m\u001b[0;34m\u001b[0m\u001b[0;34m\u001b[0m\u001b[0m\n",
      "\u001b[0;32m/anaconda3/lib/python3.7/site-packages/zmq/sugar/socket.py\u001b[0m in \u001b[0;36mrecv_multipart\u001b[0;34m(self, flags, copy, track)\u001b[0m\n\u001b[1;32m    469\u001b[0m         \"\"\"\n\u001b[0;32m--> 470\u001b[0;31m         \u001b[0mparts\u001b[0m \u001b[0;34m=\u001b[0m \u001b[0;34m[\u001b[0m\u001b[0mself\u001b[0m\u001b[0;34m.\u001b[0m\u001b[0mrecv\u001b[0m\u001b[0;34m(\u001b[0m\u001b[0mflags\u001b[0m\u001b[0;34m,\u001b[0m \u001b[0mcopy\u001b[0m\u001b[0;34m=\u001b[0m\u001b[0mcopy\u001b[0m\u001b[0;34m,\u001b[0m \u001b[0mtrack\u001b[0m\u001b[0;34m=\u001b[0m\u001b[0mtrack\u001b[0m\u001b[0;34m)\u001b[0m\u001b[0;34m]\u001b[0m\u001b[0;34m\u001b[0m\u001b[0;34m\u001b[0m\u001b[0m\n\u001b[0m\u001b[1;32m    471\u001b[0m         \u001b[0;31m# have first part already, only loop while more to receive\u001b[0m\u001b[0;34m\u001b[0m\u001b[0;34m\u001b[0m\u001b[0;34m\u001b[0m\u001b[0m\n",
      "\u001b[0;32mzmq/backend/cython/socket.pyx\u001b[0m in \u001b[0;36mzmq.backend.cython.socket.Socket.recv\u001b[0;34m()\u001b[0m\n",
      "\u001b[0;32mzmq/backend/cython/socket.pyx\u001b[0m in \u001b[0;36mzmq.backend.cython.socket.Socket.recv\u001b[0;34m()\u001b[0m\n",
      "\u001b[0;32mzmq/backend/cython/socket.pyx\u001b[0m in \u001b[0;36mzmq.backend.cython.socket._recv_copy\u001b[0;34m()\u001b[0m\n",
      "\u001b[0;32m/anaconda3/lib/python3.7/site-packages/zmq/backend/cython/checkrc.pxd\u001b[0m in \u001b[0;36mzmq.backend.cython.checkrc._check_rc\u001b[0;34m()\u001b[0m\n",
      "\u001b[0;31mKeyboardInterrupt\u001b[0m: ",
      "\nDuring handling of the above exception, another exception occurred:\n",
      "\u001b[0;31mKeyboardInterrupt\u001b[0m                         Traceback (most recent call last)",
      "\u001b[0;32m<ipython-input-34-571b90fbfbd9>\u001b[0m in \u001b[0;36m<module>\u001b[0;34m\u001b[0m\n\u001b[1;32m      3\u001b[0m \u001b[0;32mwhile\u001b[0m \u001b[0;32mTrue\u001b[0m\u001b[0;34m:\u001b[0m\u001b[0;34m\u001b[0m\u001b[0;34m\u001b[0m\u001b[0m\n\u001b[1;32m      4\u001b[0m \u001b[0;34m\u001b[0m\u001b[0m\n\u001b[0;32m----> 5\u001b[0;31m     \u001b[0mcsn\u001b[0m \u001b[0;34m=\u001b[0m \u001b[0minput\u001b[0m\u001b[0;34m(\u001b[0m\u001b[0;34m\"What would you like to cook?(Indian, American, Chinese, Italian, Mediterranean, Mexican) or 'quit'\"\u001b[0m\u001b[0;34m)\u001b[0m\u001b[0;34m\u001b[0m\u001b[0;34m\u001b[0m\u001b[0m\n\u001b[0m\u001b[1;32m      6\u001b[0m \u001b[0;34m\u001b[0m\u001b[0m\n\u001b[1;32m      7\u001b[0m \u001b[0;34m\u001b[0m\u001b[0m\n",
      "\u001b[0;32m/anaconda3/lib/python3.7/site-packages/ipykernel/kernelbase.py\u001b[0m in \u001b[0;36mraw_input\u001b[0;34m(self, prompt)\u001b[0m\n\u001b[1;32m    851\u001b[0m             \u001b[0mself\u001b[0m\u001b[0;34m.\u001b[0m\u001b[0m_parent_ident\u001b[0m\u001b[0;34m,\u001b[0m\u001b[0;34m\u001b[0m\u001b[0;34m\u001b[0m\u001b[0m\n\u001b[1;32m    852\u001b[0m             \u001b[0mself\u001b[0m\u001b[0;34m.\u001b[0m\u001b[0m_parent_header\u001b[0m\u001b[0;34m,\u001b[0m\u001b[0;34m\u001b[0m\u001b[0;34m\u001b[0m\u001b[0m\n\u001b[0;32m--> 853\u001b[0;31m             \u001b[0mpassword\u001b[0m\u001b[0;34m=\u001b[0m\u001b[0;32mFalse\u001b[0m\u001b[0;34m,\u001b[0m\u001b[0;34m\u001b[0m\u001b[0;34m\u001b[0m\u001b[0m\n\u001b[0m\u001b[1;32m    854\u001b[0m         )\n\u001b[1;32m    855\u001b[0m \u001b[0;34m\u001b[0m\u001b[0m\n",
      "\u001b[0;32m/anaconda3/lib/python3.7/site-packages/ipykernel/kernelbase.py\u001b[0m in \u001b[0;36m_input_request\u001b[0;34m(self, prompt, ident, parent, password)\u001b[0m\n\u001b[1;32m    881\u001b[0m             \u001b[0;32mexcept\u001b[0m \u001b[0mKeyboardInterrupt\u001b[0m\u001b[0;34m:\u001b[0m\u001b[0;34m\u001b[0m\u001b[0;34m\u001b[0m\u001b[0m\n\u001b[1;32m    882\u001b[0m                 \u001b[0;31m# re-raise KeyboardInterrupt, to truncate traceback\u001b[0m\u001b[0;34m\u001b[0m\u001b[0;34m\u001b[0m\u001b[0;34m\u001b[0m\u001b[0m\n\u001b[0;32m--> 883\u001b[0;31m                 \u001b[0;32mraise\u001b[0m \u001b[0mKeyboardInterrupt\u001b[0m\u001b[0;34m\u001b[0m\u001b[0;34m\u001b[0m\u001b[0m\n\u001b[0m\u001b[1;32m    884\u001b[0m             \u001b[0;32melse\u001b[0m\u001b[0;34m:\u001b[0m\u001b[0;34m\u001b[0m\u001b[0;34m\u001b[0m\u001b[0m\n\u001b[1;32m    885\u001b[0m                 \u001b[0;32mbreak\u001b[0m\u001b[0;34m\u001b[0m\u001b[0;34m\u001b[0m\u001b[0m\n",
      "\u001b[0;31mKeyboardInterrupt\u001b[0m: "
     ]
    }
   ],
   "source": [
    "cuisines = [\"Indian\", \"Italian\", \"Mexican\", \"Mediterranean\", \"Chinese\", \"American\"]\n",
    "while True:\n",
    "    print(\"Please select a cuisine:\")\n",
    "    for c in cuisines:\n",
    "        print c\n",
    "    print(\"Type q to quit to exit anytime.\")\n",
    "    cuisine = input(\"Select: \").lower()\n",
    "    if cuisine == \"quit\" or cuisine = \"q\"\n",
    "\n",
    "\n",
    "\n",
    "\n",
    "\n",
    "\n",
    "\n",
    "\n",
    "\n",
    "\n",
    "\n",
    "\n",
    "\n",
    "\n",
    "\n",
    "\n",
    "\n",
    "\n",
    "\n"
   ]
  },
  {
   "cell_type": "code",
   "execution_count": null,
   "metadata": {},
   "outputs": [],
   "source": []
  }
 ],
 "metadata": {
  "kernelspec": {
   "display_name": "Python 3",
   "language": "python",
   "name": "python3"
  },
  "language_info": {
   "codemirror_mode": {
    "name": "ipython",
    "version": 3
   },
   "file_extension": ".py",
   "mimetype": "text/x-python",
   "name": "python",
   "nbconvert_exporter": "python",
   "pygments_lexer": "ipython3",
   "version": "3.7.3"
  }
 },
 "nbformat": 4,
 "nbformat_minor": 2
}
