{
 "cells": [
  {
   "cell_type": "markdown",
   "metadata": {},
   "source": [
    "# Database Setup"
   ]
  },
  {
   "cell_type": "code",
   "execution_count": 1,
   "metadata": {
    "scrolled": true
   },
   "outputs": [],
   "source": [
    "import sqlite3\n",
    "\n",
    "def create():\n",
    "    mydb = sqlite3.connect(\"RecipeBook.db\")\n",
    "    mycursor = mydb.cursor()\n",
    "    mycursor.execute(\"CREATE TABLE RecipeBook (id INTEGER PRIMARY KEY, Cuisine VARCHAR(255), Dish VARCHAR(255), Recipe VARCHAR(255))\")\n",
    "    mydb.close()\n",
    "\n",
    "def insert():\n",
    "    mydb = sqlite3.connect(\"RecipeBook.db\")\n",
    "    mycursor = mydb.cursor()\n",
    "    sql = \"INSERT INTO RecipeBook (Cuisine, Dish, Recipe) VALUES (?, ?, ?)\"\n",
    "    val = [\n",
    "        ('Indian', 'Idli', 'https://recipes.timesofindia.com/recipes/idli/rs53239358.cms'),\n",
    "        ('Indian', 'Dosa', 'https://www.thespruceeats.com/how-to-make-dosa-1957716'),\n",
    "        ('Indian', 'Dhal', 'https://www.wearesovegan.com/super-simple-dhal/'),\n",
    "        ('Indian', 'Chutney','https://www.tarladalal.com/Coconut-Chutney--(-Idlis-and-Dosas)-1653r' ),\n",
    "        ('Indian', 'Sambhar', 'https://www.cookwithmanali.com/sambar/'),\n",
    "        ('Italian', 'Pizza', 'https://www.tasteofhome.com/recipes/homemade-pizza/'),\n",
    "        ('Italian', 'Spaghetti', 'https://www.southernliving.com/recipes/all-in-one-spaghetti-recipe'),\n",
    "        ('Italian', 'Calzone', 'https://www.allrecipes.com/recipe/18874/real-italian-calzones/'),\n",
    "        ('Italian', 'Soup', 'https://www.myrecipes.com/world-cuisine/italian-recipes/italian-soups'),\n",
    "        ('Italian', 'Polenta', 'https://www.foodnetwork.com/recipes/giada-de-laurentiis/basic-polenta-recipe-1915185'),\n",
    "        ('Mexican', 'Burrito','https://www.theseasonedmom.com/easiest-burrito-recipe/'),\n",
    "        ('Mexican', 'Taco','https://www.foodiecrush.com/taco-bell-tacos-recipe/'),\n",
    "        ('Mexican', 'Quesadilla','https://www.tasteofhome.com/recipes/chicken-quesadillas/'),\n",
    "        ('Mexican', 'Nachos','https://www.allrecipes.com/recipe/51147/super-nachos/'),\n",
    "        ('Mediterranean', 'Kebabs', 'https://www.cookingclassy.com/steak-kebabs/'),\n",
    "        ('Mediterranean', 'Tzatziki', 'https://www.themediterraneandish.com/tzatziki-sauce-recipe/'),\n",
    "        ('Mediterranean', 'Shawarma', 'https://toriavey.com/toris-kitchen/chicken-shawarma/'),\n",
    "        ('Mediterranean', 'Soulvaki', 'https://www.gimmesomeoven.com/chicken-souvlaki/'),\n",
    "        ('American', 'Mac n Cheese', 'https://www.cookingclassy.com/mac-and-cheese/'),\n",
    "        ('American', 'Grilled Cheese', 'https://www.bonappetit.com/recipe/best-ever-grilled-cheese'),\n",
    "        ('American', 'Tater Tots', 'https://www.wellplated.com/homemade-tater-tots/'),\n",
    "        ('Chinese', 'Fried Rice', 'https://www.jessicagavin.com/easy-fried-rice/'),\n",
    "        ('Chinese', 'Chow Mein', 'https://www.foodnetwork.com/recipes/ree-drummond/chow-mein-2495687'),\n",
    "        ('Chinese', 'Orange Chicken', 'https://www.modernhoney.com/chinese-orange-chicken/'),\n",
    "    ]\n",
    "    mycursor.executemany(sql, val)\n",
    "    mydb.commit()\n",
    "    mydb.close()\n",
    "\n",
    "def delete():\n",
    "    mydb = sqlite3.connect(\"RecipeBook.db\")\n",
    "    mycursor = mydb.cursor()\n",
    "    mycursor.execute(\"DROP TABLE IF EXISTS RecipeBook\")\n",
    "    mydb.close()\n",
    "    \n",
    "def getDishes(cuisine):\n",
    "    mydb = sqlite3.connect(\"RecipeBook.db\")\n",
    "    mycursor = mydb.cursor()\n",
    "    sql = \"SELECT Dish FROM RecipeBook WHERE Cuisine = ?\"\n",
    "    val = [cuisine,]\n",
    "    mycursor.execute(sql,val)\n",
    "    results = mycursor.fetchall()\n",
    "    return results\n",
    "\n",
    "def getRecipe(dish):\n",
    "    mydb = sqlite3.connect(\"RecipeBook.db\")\n",
    "    mycursor = mydb.cursor()\n",
    "    sql = \"SELECT Recipe FROM RecipeBook WHERE Dish = ?\"\n",
    "    val = [dish,]\n",
    "    mycursor.execute(sql,val)\n",
    "    results = mycursor.fetchall()\n",
    "    return results\n",
    "\n",
    "def getCuisines():\n",
    "    mydb = sqlite3.connect(\"RecipieBook.db\")\n",
    "    mycursor = mydb.cursor()\n",
    "    \n",
    "\n",
    "\n"
   ]
  },
  {
   "cell_type": "markdown",
   "metadata": {},
   "source": [
    "# User Setup"
   ]
  },
  {
   "cell_type": "code",
   "execution_count": null,
   "metadata": {},
   "outputs": [],
   "source": []
  },
  {
   "cell_type": "code",
   "execution_count": null,
   "metadata": {
    "scrolled": false
   },
   "outputs": [
    {
     "name": "stdout",
     "output_type": "stream",
     "text": [
      "Please select a cuisine:\n",
      "Indian\n",
      "Italian\n",
      "Mexican\n",
      "Chinese\n",
      "American\n",
      "Mediterranean\n",
      "Type q or quit to exit at any time.\n",
      "Select: American\n",
      "\n",
      "Please select a dish:\n",
      "Mac n Cheese\n",
      "Grilled Cheese\n",
      "Tater Tots\n",
      "Select: Mac n Cheese\n",
      "Recipie Link: https://www.cookingclassy.com/mac-and-cheese/\n",
      "\n",
      "Please select a cuisine:\n",
      "Indian\n",
      "Italian\n",
      "Mexican\n",
      "Chinese\n",
      "American\n",
      "Mediterranean\n",
      "Type q or quit to exit at any time.\n"
     ]
    }
   ],
   "source": [
    "delete()\n",
    "create()\n",
    "insert()\n",
    "\n",
    "cuisines = [\"Indian\", \"Italian\", \"Mexican\", \"Chinese\", \"American\", \"Mediterranean\"]\n",
    "while True:\n",
    "    print(\"Please select a cuisine:\")\n",
    "    for c in cuisines:\n",
    "        print(c)\n",
    "    print(\"Type q or quit to exit at any time.\")\n",
    "    cuisine = input(\"Select: \")\n",
    "    print (\"\")\n",
    "    if cuisine == \"quit\" or cuisine == \"q\":\n",
    "        print(\"\")\n",
    "        print(\"Thanks for using Nitin's Recipe Book!\")\n",
    "        break\n",
    "    elif cuisine not in cuisines:\n",
    "        print(\"\")\n",
    "        print(\"Oops, that's not a cuisine. Try again!\")\n",
    "        print(\"\")\n",
    "        continue\n",
    "    else:\n",
    "        dishes = [d[0] for d in getDishes(cuisine)]\n",
    "        print(\"Please select a dish:\")\n",
    "        for d in dishes:\n",
    "            print(d)\n",
    "        dish = input(\"Select: \")\n",
    "        if dish == \"quit\" or dish == \"q\":\n",
    "            print(\"\")\n",
    "            print(\"Thanks for using Nitin's Recipe Book!\")\n",
    "            break\n",
    "        elif dish not in dishes:\n",
    "            print(\"\")\n",
    "            print(\"Oops, that's not a dish. Try again!\")\n",
    "            print(\"\")\n",
    "            continue\n",
    "        else:\n",
    "            print(\"Recipie Link: \" + getRecipe(dish)[0][0])\n",
    "            print (\"\")"
   ]
  },
  {
   "cell_type": "code",
   "execution_count": null,
   "metadata": {},
   "outputs": [],
   "source": []
  },
  {
   "cell_type": "code",
   "execution_count": null,
   "metadata": {},
   "outputs": [],
   "source": []
  },
  {
   "cell_type": "code",
   "execution_count": null,
   "metadata": {},
   "outputs": [],
   "source": []
  }
 ],
 "metadata": {
  "kernelspec": {
   "display_name": "Python 3",
   "language": "python",
   "name": "python3"
  },
  "language_info": {
   "codemirror_mode": {
    "name": "ipython",
    "version": 3
   },
   "file_extension": ".py",
   "mimetype": "text/x-python",
   "name": "python",
   "nbconvert_exporter": "python",
   "pygments_lexer": "ipython3",
   "version": "3.7.3"
  }
 },
 "nbformat": 4,
 "nbformat_minor": 2
}
