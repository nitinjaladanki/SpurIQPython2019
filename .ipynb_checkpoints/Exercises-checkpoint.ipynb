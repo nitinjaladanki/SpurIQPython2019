{
 "cells": [
  {
   "cell_type": "markdown",
   "metadata": {},
   "source": [
    "# Exercises\n"
   ]
  },
  {
   "cell_type": "code",
   "execution_count": 1,
   "metadata": {},
   "outputs": [
    {
     "name": "stdout",
     "output_type": "stream",
     "text": [
      "Hello World!\n"
     ]
    }
   ],
   "source": [
    "print(\"Hello World!\")"
   ]
  },
  {
   "cell_type": "code",
   "execution_count": 2,
   "metadata": {},
   "outputs": [
    {
     "name": "stdout",
     "output_type": "stream",
     "text": [
      "80\n",
      "80\n",
      "80\n"
     ]
    }
   ],
   "source": [
    "x = 20\n",
    "y = 4\n",
    "z = x * y\n",
    "print (x*y)\n",
    "print (20*4)\n",
    "print (z)"
   ]
  },
  {
   "cell_type": "code",
   "execution_count": 3,
   "metadata": {},
   "outputs": [
    {
     "name": "stdout",
     "output_type": "stream",
     "text": [
      "I have mastered decision making!\n"
     ]
    }
   ],
   "source": [
    "a = 100\n",
    "b = 50\n",
    "if a > b:\n",
    "    print (\"I have mastered decision making!\")"
   ]
  },
  {
   "cell_type": "code",
   "execution_count": 4,
   "metadata": {},
   "outputs": [
    {
     "name": "stdout",
     "output_type": "stream",
     "text": [
      "pizza\n",
      "waffles\n",
      "mango\n"
     ]
    }
   ],
   "source": [
    "foodList = [\"pizza\", \"waffles\", \"mango\"]\n",
    "for x in foodList:\n",
    "    print (x)"
   ]
  },
  {
   "cell_type": "code",
   "execution_count": 5,
   "metadata": {},
   "outputs": [
    {
     "name": "stdout",
     "output_type": "stream",
     "text": [
      "pizza\n",
      "waffles\n",
      "mango\n"
     ]
    }
   ],
   "source": [
    "foodTuple = (\"pizza\", \"waffles\", \"mango\")\n",
    "for x in foodTuple:\n",
    "    print (x)"
   ]
  },
  {
   "cell_type": "code",
   "execution_count": 6,
   "metadata": {},
   "outputs": [
    {
     "name": "stdout",
     "output_type": "stream",
     "text": [
      "waffles\n",
      "mango\n",
      "pizza\n"
     ]
    }
   ],
   "source": [
    "foodSet = {\"pizza\", \"waffles\", \"mango\"}\n",
    "for x in foodSet:\n",
    "    print (x)"
   ]
  },
  {
   "cell_type": "code",
   "execution_count": 11,
   "metadata": {
    "scrolled": true
   },
   "outputs": [
    {
     "name": "stdout",
     "output_type": "stream",
     "text": [
      "pizza\n",
      "waffles\n",
      "mango\n"
     ]
    }
   ],
   "source": [
    "foodDict = {\"savory\":\"pizza\", \"sweet\":\"waffles\", \"fruit\":\"mango\"}\n",
    "for x in foodDict:\n",
    "    print(foodDict.get(x))"
   ]
  },
  {
   "cell_type": "code",
   "execution_count": 23,
   "metadata": {
    "scrolled": true
   },
   "outputs": [
    {
     "name": "stdout",
     "output_type": "stream",
     "text": [
      "4950\n"
     ]
    }
   ],
   "source": [
    "sum = 0\n",
    "for x in range(10000):\n",
    "    sum += x\n",
    "print (sum)"
   ]
  },
  {
   "cell_type": "code",
   "execution_count": 5,
   "metadata": {},
   "outputs": [
    {
     "name": "stdout",
     "output_type": "stream",
     "text": [
      "36\n"
     ]
    }
   ],
   "source": [
    "def sumList(x):\n",
    "    sum = 0\n",
    "    for i in range (x):\n",
    "        sum += i\n",
    "    return sum\n",
    "print (sumList(9))"
   ]
  },
  {
   "cell_type": "code",
   "execution_count": 14,
   "metadata": {
    "scrolled": true
   },
   "outputs": [
    {
     "name": "stdout",
     "output_type": "stream",
     "text": [
      "5\n",
      "(5, 'Cupcakes', 'Dessert')\n",
      "(2, 'Dosa', 'Indian')\n",
      "(3, 'Goldfish', 'Snack')\n",
      "(4, 'Pizza', 'Italian')\n",
      "(1, 'Quesadilla', 'Mexican')\n"
     ]
    }
   ],
   "source": [
    "import sqlite3\n",
    "\n",
    "def createTable():\n",
    "    mydb = sqlite3.connect(\"mydatabase.db\")\n",
    "    mycursor = mydb.cursor()\n",
    "    mycursor.execute(\"CREATE TABLE FavFoods (id INTEGER PRIMARY KEY, food VARCHAR(255), foodType VARCHAR(255))\")\n",
    "    mydb.close()\n",
    "\n",
    "def fillTable():\n",
    "    mydb = sqlite3.connect(\"mydatabase.db\")\n",
    "    mycursor = mydb.cursor()\n",
    "    sql = \"INSERT INTO FavFoods (food, foodType) VALUES (?, ?)\"\n",
    "    val = [\n",
    "    ('Quesadilla', 'Mexican'),\n",
    "    ('Dosa', 'Indian'),\n",
    "    ('Goldfish', 'Snack'),\n",
    "    ('Pizza', 'Italian'),\n",
    "    ('Cupcakes', 'Dessert'),\n",
    "    ]\n",
    "    mycursor.executemany(sql, val)\n",
    "    mydb.commit()\n",
    "    mydb.close()\n",
    "\n",
    "def viewTable():\n",
    "    mydb = sqlite3.connect(\"mydatabase.db\")\n",
    "    mycursor = mydb.cursor()\n",
    "    sql = \"SELECT * FROM FavFoods ORDER BY food\"\n",
    "    mycursor.execute(sql)\n",
    "    myresult = mycursor.fetchall()\n",
    "    for x in myresult:\n",
    "        print(x)\n",
    "    mydb.close()\n",
    "\n",
    "def deleteTable():\n",
    "    mydb = sqlite3.connect(\"mydatabase.db\")\n",
    "    mycursor = mydb.cursor()\n",
    "    sql = \"DROP TABLE IF EXISTS FavFoods\"\n",
    "    mycursor.execute(sql)\n",
    "    mydb.close()\n",
    "\n",
    "deleteTable()\n",
    "createTable()\n",
    "fillTable()\n",
    "viewTable()"
   ]
  },
  {
   "cell_type": "code",
   "execution_count": null,
   "metadata": {},
   "outputs": [],
   "source": []
  }
 ],
 "metadata": {
  "kernelspec": {
   "display_name": "Python 3",
   "language": "python",
   "name": "python3"
  },
  "language_info": {
   "codemirror_mode": {
    "name": "ipython",
    "version": 3
   },
   "file_extension": ".py",
   "mimetype": "text/x-python",
   "name": "python",
   "nbconvert_exporter": "python",
   "pygments_lexer": "ipython3",
   "version": "3.7.3"
  }
 },
 "nbformat": 4,
 "nbformat_minor": 2
}
