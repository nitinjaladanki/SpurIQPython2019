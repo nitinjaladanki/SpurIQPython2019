{
 "cells": [
  {
   "cell_type": "markdown",
   "metadata": {},
   "source": [
    "# Exercises\n"
   ]
  },
  {
   "cell_type": "code",
   "execution_count": 1,
   "metadata": {},
   "outputs": [
    {
     "name": "stdout",
     "output_type": "stream",
     "text": [
      "Hello World!\n"
     ]
    }
   ],
   "source": [
    "print(\"Hello World!\")"
   ]
  },
  {
   "cell_type": "code",
   "execution_count": 2,
   "metadata": {},
   "outputs": [
    {
     "name": "stdout",
     "output_type": "stream",
     "text": [
      "80\n",
      "80\n",
      "80\n"
     ]
    }
   ],
   "source": [
    "x = 20\n",
    "y = 4\n",
    "z = x * y\n",
    "print (x*y)\n",
    "print (20*4)\n",
    "print (z)"
   ]
  },
  {
   "cell_type": "code",
   "execution_count": 3,
   "metadata": {},
   "outputs": [
    {
     "name": "stdout",
     "output_type": "stream",
     "text": [
      "I have mastered decision making!\n"
     ]
    }
   ],
   "source": [
    "a = 100\n",
    "b = 50\n",
    "if a > b:\n",
    "    print (\"I have mastered decision making!\")"
   ]
  },
  {
   "cell_type": "code",
   "execution_count": 4,
   "metadata": {},
   "outputs": [
    {
     "name": "stdout",
     "output_type": "stream",
     "text": [
      "pizza\n",
      "waffles\n",
      "mango\n"
     ]
    }
   ],
   "source": [
    "foodList = [\"pizza\", \"waffles\", \"mango\"]\n",
    "for x in foodList:\n",
    "    print (x)"
   ]
  },
  {
   "cell_type": "code",
   "execution_count": 5,
   "metadata": {},
   "outputs": [
    {
     "name": "stdout",
     "output_type": "stream",
     "text": [
      "pizza\n",
      "waffles\n",
      "mango\n"
     ]
    }
   ],
   "source": [
    "foodTuple = (\"pizza\", \"waffles\", \"mango\")\n",
    "for x in foodTuple:\n",
    "    print (x)"
   ]
  },
  {
   "cell_type": "code",
   "execution_count": 6,
   "metadata": {},
   "outputs": [
    {
     "name": "stdout",
     "output_type": "stream",
     "text": [
      "waffles\n",
      "mango\n",
      "pizza\n"
     ]
    }
   ],
   "source": [
    "foodSet = {\"pizza\", \"waffles\", \"mango\"}\n",
    "for x in foodSet:\n",
    "    print (x)"
   ]
  },
  {
   "cell_type": "code",
   "execution_count": 11,
   "metadata": {
    "scrolled": true
   },
   "outputs": [
    {
     "name": "stdout",
     "output_type": "stream",
     "text": [
      "pizza\n",
      "waffles\n",
      "mango\n"
     ]
    }
   ],
   "source": [
    "foodDict = {\"savory\":\"pizza\", \"sweet\":\"waffles\", \"fruit\":\"mango\"}\n",
    "for x in foodDict:\n",
    "    print(foodDict.get(x))"
   ]
  },
  {
   "cell_type": "code",
   "execution_count": 23,
   "metadata": {
    "scrolled": true
   },
   "outputs": [
    {
     "name": "stdout",
     "output_type": "stream",
     "text": [
      "4950\n"
     ]
    }
   ],
   "source": [
    "sum = 0\n",
    "for x in range(10000):\n",
    "    sum += x\n",
    "print (sum)"
   ]
  },
  {
   "cell_type": "code",
   "execution_count": 5,
   "metadata": {},
   "outputs": [
    {
     "name": "stdout",
     "output_type": "stream",
     "text": [
      "36\n"
     ]
    }
   ],
   "source": [
    "def sumList(x):\n",
    "    sum = 0\n",
    "    for i in range (x):\n",
    "        sum += i\n",
    "    return sum\n",
    "print (sumList(9))"
   ]
  },
  {
   "cell_type": "code",
   "execution_count": 14,
   "metadata": {
    "scrolled": true
   },
   "outputs": [
    {
     "name": "stdout",
     "output_type": "stream",
     "text": [
      "5\n",
      "(5, 'Cupcakes', 'Dessert')\n",
      "(2, 'Dosa', 'Indian')\n",
      "(3, 'Goldfish', 'Snack')\n",
      "(4, 'Pizza', 'Italian')\n",
      "(1, 'Quesadilla', 'Mexican')\n"
     ]
    }
   ],
   "source": [
    "import sqlite3\n",
    "\n",
    "def createTable():\n",
    "    mydb = sqlite3.connect(\"mydatabase.db\")\n",
    "    mycursor = mydb.cursor()\n",
    "    mycursor.execute(\"CREATE TABLE FavFoods (id INTEGER PRIMARY KEY, food VARCHAR(255), foodType VARCHAR(255))\")\n",
    "    mydb.close()\n",
    "\n",
    "def fillTable():\n",
    "    mydb = sqlite3.connect(\"mydatabase.db\")\n",
    "    mycursor = mydb.cursor()\n",
    "    sql = \"INSERT INTO FavFoods (food, foodType) VALUES (?, ?)\"\n",
    "    val = [\n",
    "    ('Quesadilla', 'Mexican'),\n",
    "    ('Dosa', 'Indian'),\n",
    "    ('Goldfish', 'Snack'),\n",
    "    ('Pizza', 'Italian'),\n",
    "    ('Cupcakes', 'Dessert'),\n",
    "    ]\n",
    "    mycursor.executemany(sql, val)\n",
    "    mydb.commit()\n",
    "    mydb.close()\n",
    "\n",
    "def viewTable():\n",
    "    mydb = sqlite3.connect(\"mydatabase.db\")\n",
    "    mycursor = mydb.cursor()\n",
    "    sql = \"SELECT * FROM FavFoods ORDER BY food\"\n",
    "    mycursor.execute(sql)\n",
    "    myresult = mycursor.fetchall()\n",
    "    for x in myresult:\n",
    "        print(x)\n",
    "    mydb.close()\n",
    "\n",
    "def deleteTable():\n",
    "    mydb = sqlite3.connect(\"mydatabase.db\")\n",
    "    mycursor = mydb.cursor()\n",
    "    sql = \"DROP TABLE IF EXISTS FavFoods\"\n",
    "    mycursor.execute(sql)\n",
    "    mydb.close()\n",
    "\n",
    "deleteTable()\n",
    "createTable()\n",
    "fillTable()\n",
    "viewTable()"
   ]
  },
  {
   "cell_type": "code",
   "execution_count": 35,
   "metadata": {
    "scrolled": true
   },
   "outputs": [
    {
     "name": "stdout",
     "output_type": "stream",
     "text": [
      "Please enter a word: nitin\n",
      "Original: nitin\n",
      "Reversed: nitin\n"
     ]
    }
   ],
   "source": [
    "def reverseString(word): \n",
    "    revString = \"\"\n",
    "    for letter in word:\n",
    "        revString = letter + revString\n",
    "    print (\"Original: \" + word)\n",
    "    print (\"Reversed: \" + revString)\n",
    "\n",
    "word = input(\"Please enter a word: \")\n",
    "\n",
    "reverseString(word)"
   ]
  },
  {
   "cell_type": "code",
   "execution_count": 37,
   "metadata": {},
   "outputs": [
    {
     "data": {
      "application/vnd.jupyter.widget-view+json": {
       "model_id": "",
       "version_major": 2,
       "version_minor": 0
      },
      "text/plain": [
       "HBox(children=(Button(description='Heads', style=ButtonStyle()), Button(description='Tails', style=ButtonStyle…"
      ]
     },
     "metadata": {},
     "output_type": "display_data"
    },
    {
     "data": {
      "application/vnd.jupyter.widget-view+json": {
       "model_id": "4d3c3c23806b464baf444dc07693c43f",
       "version_major": 2,
       "version_minor": 0
      },
      "text/plain": [
       "IntProgress(value=0, description='Progress', max=5)"
      ]
     },
     "metadata": {},
     "output_type": "display_data"
    },
    {
     "data": {
      "application/vnd.jupyter.widget-view+json": {
       "model_id": "",
       "version_major": 2,
       "version_minor": 0
      },
      "text/plain": [
       "Label(value='')"
      ]
     },
     "metadata": {},
     "output_type": "display_data"
    },
    {
     "data": {
      "application/vnd.jupyter.widget-view+json": {
       "model_id": "ea32e78952fb446ea3dd24a721f79619",
       "version_major": 2,
       "version_minor": 0
      },
      "text/plain": [
       "Label(value='')"
      ]
     },
     "metadata": {},
     "output_type": "display_data"
    }
   ],
   "source": [
    "import ipywidgets as widgets\n",
    "import random\n",
    "heads = widgets.Button(description='Heads')\n",
    "tails = widgets.Button(description='Tails')\n",
    "choiceBox = widgets.HBox([heads,tails])\n",
    "progressBar = widgets.IntProgress(value=0,min=0,max=5,description='Progress')\n",
    "resultLabel = widgets.Label()\n",
    "endGame = widgets.Label()\n",
    "\n",
    "def coinToss(b):\n",
    "    coin = random.choice(['Heads','Tails'])\n",
    "    progress = progressBar.value\n",
    "    if b.description == coin:\n",
    "        progress += 1\n",
    "        progressBar.value = progress\n",
    "        resultLabel.value = b.description + ' was correct!'\n",
    "    else:\n",
    "        resultLabel.value = b.description + ' was incorrect. Try again!'\n",
    "    if progress == 5:\n",
    "        endGame.value = \"You've correctly picked 5 tosses!\"\n",
    "        choiceBox.close()\n",
    "        resultLabel.close()\n",
    "\n",
    "display(choiceBox)\n",
    "display(progressBar)\n",
    "display(resultLabel)\n",
    "display(endGame)\n",
    "heads.on_click(coinToss)\n",
    "tails.on_click(coinToss)                     "
   ]
  },
  {
   "cell_type": "code",
   "execution_count": null,
   "metadata": {},
   "outputs": [],
   "source": []
  }
 ],
 "metadata": {
  "kernelspec": {
   "display_name": "Python 3",
   "language": "python",
   "name": "python3"
  },
  "language_info": {
   "codemirror_mode": {
    "name": "ipython",
    "version": 3
   },
   "file_extension": ".py",
   "mimetype": "text/x-python",
   "name": "python",
   "nbconvert_exporter": "python",
   "pygments_lexer": "ipython3",
   "version": "3.7.3"
  }
 },
 "nbformat": 4,
 "nbformat_minor": 2
}
