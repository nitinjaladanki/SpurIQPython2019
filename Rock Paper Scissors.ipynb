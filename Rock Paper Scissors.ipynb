{
 "cells": [
  {
   "cell_type": "markdown",
   "metadata": {},
   "source": [
    "# Rock Paper Scissors"
   ]
  },
  {
   "cell_type": "code",
   "execution_count": 2,
   "metadata": {},
   "outputs": [
    {
     "name": "stdout",
     "output_type": "stream",
     "text": [
      "Your move: q\n",
      "Your final score: 0\n",
      "Computer final score: 0\n",
      "It's a tie!\n"
     ]
    }
   ],
   "source": [
    "import numpy\n",
    "\n",
    "moves = ['r','p','s']\n",
    "computer_prob = [0.5,0.2,0.3]\n",
    "player_wins = ['pr','sp','rs']\n",
    "player_score = 0\n",
    "computer_score = 0\n",
    "\n",
    "while True:\n",
    "    player_move = input(\"Your move: \")\n",
    "    if player_move == 'q':\n",
    "        print(\"Your final score:\",player_score)\n",
    "        print(\"Computer final score:\",computer_score)\n",
    "        if (player_score > computer_score):\n",
    "            print (\"Good job you won!\")\n",
    "        elif (player_score < computer_score):\n",
    "            print (\"Good luck next time!\")\n",
    "        else:\n",
    "            print (\"It's a tie!\")          \n",
    "        break\n",
    "    elif player_move not in moves:\n",
    "        print(\"That is not a valid move.\")\n",
    "        print(\"Please choose r, p, or s to play, or choose q to quit.\")\n",
    "        continue\n",
    "    p = numpy.random.choice([1,0.5,0.34])\n",
    "    if player_move == \"r\":\n",
    "        computer_prob = [(1-p)/2,p,(1-p)/2]\n",
    "    elif player_move == \"p\":\n",
    "        computer_prob = [(1-p)/2,(1-p)/2,p]\n",
    "    elif player_move == \"s\":\n",
    "        computer_prob = [p,(1-p)/2,(1-p)/2]\n",
    "    computer_move = numpy.random.choice(moves,p=computer_prob)\n",
    "    print(\"Computer move:\",computer_move)\n",
    "    if player_move == computer_move:\n",
    "        print(\"It's a tie!\")\n",
    "    elif player_move + computer_move in player_wins:\n",
    "        print(\"You win!\")\n",
    "        player_score += 1\n",
    "    else:\n",
    "        print(\"You lose!\")\n",
    "        computer_score += 1\n",
    "    print(\"Your score:\",player_score)\n",
    "    print(\"Computer score:\",computer_score)\n",
    "    print(\"\\n\")"
   ]
  }
 ],
 "metadata": {
  "kernelspec": {
   "display_name": "Python 3",
   "language": "python",
   "name": "python3"
  },
  "language_info": {
   "codemirror_mode": {
    "name": "ipython",
    "version": 3
   },
   "file_extension": ".py",
   "mimetype": "text/x-python",
   "name": "python",
   "nbconvert_exporter": "python",
   "pygments_lexer": "ipython3",
   "version": "3.7.3"
  }
 },
 "nbformat": 4,
 "nbformat_minor": 2
}
