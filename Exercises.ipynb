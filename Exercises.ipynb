{
 "cells": [
  {
   "cell_type": "markdown",
   "metadata": {},
   "source": [
    "# Exercises\n"
   ]
  },
  {
   "cell_type": "code",
   "execution_count": 8,
   "metadata": {},
   "outputs": [
    {
     "name": "stdout",
     "output_type": "stream",
     "text": [
      "Hello World!\n"
     ]
    }
   ],
   "source": [
    "print(\"Hello World!\")"
   ]
  },
  {
   "cell_type": "code",
   "execution_count": 9,
   "metadata": {},
   "outputs": [
    {
     "name": "stdout",
     "output_type": "stream",
     "text": [
      "80\n",
      "80\n",
      "80\n"
     ]
    }
   ],
   "source": [
    "x = 20\n",
    "y = 4\n",
    "z = x * y\n",
    "print (x*y)\n",
    "print (20*4)\n",
    "print (z)"
   ]
  },
  {
   "cell_type": "code",
   "execution_count": 3,
   "metadata": {},
   "outputs": [],
   "source": [
    "a = 100\n",
    "b = 50\n",
    "if a > b:\n",
    "    print (\"I have mastered decision making!\")"
   ]
  },
  {
   "cell_type": "code",
   "execution_count": 15,
   "metadata": {},
   "outputs": [
    {
     "name": "stdout",
     "output_type": "stream",
     "text": [
      "['pizza', 'waffles', 'mango']\n",
      "pizza\n",
      "waffles\n",
      "mango\n"
     ]
    }
   ],
   "source": [
    "foodlist = [\"pizza\", \"waffles\", \"mango\"]\n",
    "print(foodlist)\n",
    "print(foodlist[0])\n",
    "print(foodlist[1])\n",
    "print(foodlist[2])"
   ]
  },
  {
   "cell_type": "code",
   "execution_count": 20,
   "metadata": {},
   "outputs": [
    {
     "name": "stdout",
     "output_type": "stream",
     "text": [
      "('pizza', 'waffles', 'mango')\n",
      "pizza\n",
      "waffles\n",
      "mango\n"
     ]
    }
   ],
   "source": [
    "foodTuple = (\"pizza\", \"waffles\", \"mango\")\n",
    "print(foodTuple)\n",
    "print(foodTuple[0])\n",
    "print(foodTuple[1])\n",
    "print(foodTuple[2])"
   ]
  },
  {
   "cell_type": "code",
   "execution_count": 12,
   "metadata": {},
   "outputs": [
    {
     "name": "stdout",
     "output_type": "stream",
     "text": [
      "{'waffles', 'mango', 'pizza'}\n"
     ]
    }
   ],
   "source": [
    "foodSet = {\"pizza\", \"waffles\", \"mango\"}\n",
    "print(foodSet)"
   ]
  },
  {
   "cell_type": "code",
   "execution_count": 23,
   "metadata": {},
   "outputs": [
    {
     "name": "stdout",
     "output_type": "stream",
     "text": [
      "{'savory': 'pizza', 'sweet': 'waffles', 'fruit': 'mango'}\n",
      "pizza\n",
      "waffles\n",
      "mango\n"
     ]
    }
   ],
   "source": [
    "foodDict = {\"savory\":\"pizza\", \"sweet\":\"waffles\", \"fruit\":\"mango\"}\n",
    "print(foodDict)\n",
    "print(foodDict.get(\"savory\"))\n",
    "print(foodDict.get(\"sweet\"))\n",
    "print(foodDict.get(\"fruit\"))"
   ]
  }
 ],
 "metadata": {
  "kernelspec": {
   "display_name": "Python 3",
   "language": "python",
   "name": "python3"
  },
  "language_info": {
   "codemirror_mode": {
    "name": "ipython",
    "version": 3
   },
   "file_extension": ".py",
   "mimetype": "text/x-python",
   "name": "python",
   "nbconvert_exporter": "python",
   "pygments_lexer": "ipython3",
   "version": "3.7.3"
  }
 },
 "nbformat": 4,
 "nbformat_minor": 2
}
